{
 "cells": [
  {
   "cell_type": "code",
   "execution_count": null,
   "id": "591f8d36",
   "metadata": {},
   "outputs": [],
   "source": [
    "https://leetcode.com/problems/merge-strings-alternately\n",
    "1768. Merge Strings Alternately\n",
    "You are given two strings word1 and word2. Merge the strings by adding letters in alternating order, starting with word1. \n",
    "If a string is longer than the other, append the additional letters onto the end of the merged string.\n",
    "\n",
    "Return the merged string.    \n",
    "Input: word1 = \"abc\", word2 = \"pqr\"\n",
    "Output: \"apbqcr\"\n",
    "Explanation: The merged string will be merged as so:\n",
    "word1:  a   b   c\n",
    "word2:    p   q   r\n",
    "merged: a p b q c r\n",
    "    \n",
    "Input: word1 = \"ab\", word2 = \"pqrs\"\n",
    "Output: \"apbqrs\"\n",
    "Explanation: Notice that as word2 is longer, \"rs\" is appended to the end.\n",
    "word1:  a   b \n",
    "word2:    p   q   r   s\n",
    "merged: a p b q   r   s\n",
    "    \n",
    "Input: word1 = \"abcd\", word2 = \"pq\"\n",
    "Output: \"apbqcd\"\n",
    "Explanation: Notice that as word1 is longer, \"cd\" is appended to the end.\n",
    "word1:  a   b   c   d\n",
    "word2:    p   q \n",
    "merged: a p b q c   d        "
   ]
  },
  {
   "cell_type": "code",
   "execution_count": 3,
   "id": "b056dde8",
   "metadata": {},
   "outputs": [
    {
     "name": "stdout",
     "output_type": "stream",
     "text": [
      "Final concatenated string will be ->  apbqcrd\n"
     ]
    }
   ],
   "source": [
    "class Solution:\n",
    "    def mergeAlternately(self, word1: str, word2: str) -> str:\n",
    "        empstr=\"\"\n",
    "        for i in range(min(len(word1),len(word2))):\n",
    "            empstr=empstr+word1[i]+word2[i]\n",
    "        if len(word1)==len(word2):\n",
    "            return empstr\n",
    "        elif len(word1)>len(word2):\n",
    "            empstr=empstr+word1[i+1:]\n",
    "            return empstr\n",
    "        else:\n",
    "            empstr=empstr+word2[i+1:]\n",
    "            return empstr\n",
    "        \n",
    "A=Solution()\n",
    "result=A.mergeAlternately(\"abcd\",\"pqr\")\n",
    "print(\"Final concatenated string will be -> \",result)\n",
    "            "
   ]
  },
  {
   "cell_type": "code",
   "execution_count": null,
   "id": "169872ee",
   "metadata": {},
   "outputs": [],
   "source": []
  }
 ],
 "metadata": {
  "kernelspec": {
   "display_name": "Python 3 (ipykernel)",
   "language": "python",
   "name": "python3"
  },
  "language_info": {
   "codemirror_mode": {
    "name": "ipython",
    "version": 3
   },
   "file_extension": ".py",
   "mimetype": "text/x-python",
   "name": "python",
   "nbconvert_exporter": "python",
   "pygments_lexer": "ipython3",
   "version": "3.9.7"
  }
 },
 "nbformat": 4,
 "nbformat_minor": 5
}
