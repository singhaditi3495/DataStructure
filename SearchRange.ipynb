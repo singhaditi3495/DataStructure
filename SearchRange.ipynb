{
 "cells": [
  {
   "cell_type": "code",
   "execution_count": null,
   "id": "f7fb7cd7",
   "metadata": {},
   "outputs": [],
   "source": [
    "Array: [1, 2, 3, 3, 3, 4, 4, 5]\n",
    "Number: 3\n",
    "Answer: [2, 4]\n",
    "Array: [1, 2, 3, 3, 3, 4, 4, 5]\n",
    "Number: 5\n",
    "Answer: [7, 7]\n",
    "Array: [1, 2, 3, 3, 3, 4, 4, 5]\n",
    "Number: 6\n",
    "Answer: [-1, -1]\n",
    "\n",
    "Given a sorted array and a number key, find the index of the first and last occurrence of the key in the array.\n",
    "\n",
    "If the key is not present, return [-1, -1].\n",
    "\n",
    "Expected Time Complexity: O(log n)\n"
   ]
  },
  {
   "cell_type": "code",
   "execution_count": 2,
   "id": "34dad4ae",
   "metadata": {},
   "outputs": [
    {
     "name": "stdout",
     "output_type": "stream",
     "text": [
      "final output will be :  [2, 4]\n",
      "final output will be :  [7, 7]\n",
      "final output will be :  [-1, -1]\n"
     ]
    }
   ],
   "source": [
    "def searchrange(nums,target):\n",
    "    dict1={}\n",
    "    #for index,value in enumerate(nums):\n",
    "    if target not in nums:\n",
    "        return [-1,-1]\n",
    "    elif target in nums:\n",
    "        finalindex=nums.count(target)\n",
    "        for i in range(0,len(nums)):\n",
    "            if nums[i]==target:\n",
    "                \n",
    "                pos=i\n",
    "                break\n",
    "    return [pos,(pos+finalindex)-1]\n",
    "\n",
    "nums= [1, 2, 3, 3, 3, 4, 4, 5]\n",
    "target= 3\n",
    "\n",
    "nums2= [1, 2, 3, 3, 3, 4, 4, 5]\n",
    "target2= 6\n",
    "\n",
    "\n",
    "output=searchrange(nums,target)\n",
    "print(\"final output will be : \",output)\n",
    "\n",
    "output1=searchrange(nums1,target1)\n",
    "print(\"final output will be : \",output1)\n",
    "\n",
    "output2=searchrange(nums2,target2)\n",
    "print(\"final output will be : \",output2)\n",
    "\n",
    "            \n",
    "        "
   ]
  },
  {
   "cell_type": "code",
   "execution_count": 3,
   "id": "7aa7a4bd",
   "metadata": {},
   "outputs": [
    {
     "name": "stdout",
     "output_type": "stream",
     "text": [
      "final output will be :  [7, 7]\n"
     ]
    }
   ],
   "source": [
    "\n",
    "nums1= [1, 2, 3, 3, 3, 4, 4, 5]\n",
    "target1= 5\n",
    "\n",
    "output1=searchrange(nums1,target1)\n",
    "print(\"final output will be : \",output1)\n"
   ]
  },
  {
   "cell_type": "code",
   "execution_count": 6,
   "id": "801058e2",
   "metadata": {},
   "outputs": [
    {
     "name": "stdout",
     "output_type": "stream",
     "text": [
      "final output will be :  [7, 7]\n"
     ]
    }
   ],
   "source": [
    "def range(nums,target):\n",
    "    if target not in nums:\n",
    "        return [-1,-1]\n",
    "    else:\n",
    "        for i,j in enumerate(nums):\n",
    "            if j==target:\n",
    "                return [i,i+nums.count(j)-1]\n",
    "input1=[1, 2, 3, 3, 3, 4, 4, 5]\n",
    "target1=5\n",
    "output1=range(input1,target1)\n",
    "print(\"final output will be : \",output1)\n"
   ]
  },
  {
   "cell_type": "code",
   "execution_count": null,
   "id": "18c0ac7d",
   "metadata": {},
   "outputs": [],
   "source": []
  }
 ],
 "metadata": {
  "kernelspec": {
   "display_name": "Python 3 (ipykernel)",
   "language": "python",
   "name": "python3"
  },
  "language_info": {
   "codemirror_mode": {
    "name": "ipython",
    "version": 3
   },
   "file_extension": ".py",
   "mimetype": "text/x-python",
   "name": "python",
   "nbconvert_exporter": "python",
   "pygments_lexer": "ipython3",
   "version": "3.9.7"
  }
 },
 "nbformat": 4,
 "nbformat_minor": 5
}
