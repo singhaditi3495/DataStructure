{
 "cells": [
  {
   "cell_type": "code",
   "execution_count": null,
   "id": "79ff2803",
   "metadata": {},
   "outputs": [],
   "source": [
    "Remove occurences\n",
    "https://workat.tech/problem-solving/practice/remove-occurences\n",
    "Easy\n",
    "30\n",
    "Given an array and a number k, remove all occurrences of k from the array (in-place). Return the number of elements 'remainingSize' left after removing k. Note that removing the occurences is mandatory and will be checked in the main method. There can be anything beyond the first 'remainingSize' elements. It will be ignored.\n",
    "\n",
    "Example\n",
    "Array: [1, 4, 2, 6, 2, 6, 9, 4]\n",
    "Number: 4\n",
    "Answer: 6\n",
    "Explanation:[1, 2, 6, 2, 6, 9]\n",
    "Testing"
   ]
  },
  {
   "cell_type": "code",
   "execution_count": 3,
   "id": "d2166def",
   "metadata": {},
   "outputs": [
    {
     "name": "stdout",
     "output_type": "stream",
     "text": [
      "output will be ->  (6, [1, 2, 6, 2, 6, 9])\n"
     ]
    }
   ],
   "source": [
    "def removeocur(nums,target):\n",
    "    while target in nums:\n",
    "        nums.remove(target)\n",
    "    return len(nums),nums\n",
    "    \n",
    "\n",
    "Array= [1, 4, 2, 6, 2, 6, 9, 4]\n",
    "Number= 4\n",
    "out=removeocur(Array,Number)\n",
    "print(\"output will be -> \", out)\n"
   ]
  },
  {
   "cell_type": "code",
   "execution_count": null,
   "id": "82f939ec",
   "metadata": {},
   "outputs": [],
   "source": []
  },
  {
   "cell_type": "code",
   "execution_count": null,
   "id": "42f714e6",
   "metadata": {},
   "outputs": [],
   "source": []
  },
  {
   "cell_type": "code",
   "execution_count": null,
   "id": "f9ab32ff",
   "metadata": {},
   "outputs": [],
   "source": []
  },
  {
   "cell_type": "code",
   "execution_count": null,
   "id": "ffdef861",
   "metadata": {},
   "outputs": [],
   "source": []
  },
  {
   "cell_type": "code",
   "execution_count": null,
   "id": "8bcc97e5",
   "metadata": {},
   "outputs": [],
   "source": []
  },
  {
   "cell_type": "code",
   "execution_count": null,
   "id": "3f2536b6",
   "metadata": {},
   "outputs": [],
   "source": []
  },
  {
   "cell_type": "code",
   "execution_count": null,
   "id": "13cbcdaa",
   "metadata": {},
   "outputs": [],
   "source": []
  },
  {
   "cell_type": "code",
   "execution_count": null,
   "id": "b65a86c9",
   "metadata": {},
   "outputs": [],
   "source": []
  },
  {
   "cell_type": "code",
   "execution_count": null,
   "id": "033a17b3",
   "metadata": {},
   "outputs": [],
   "source": []
  }
 ],
 "metadata": {
  "kernelspec": {
   "display_name": "Python 3 (ipykernel)",
   "language": "python",
   "name": "python3"
  },
  "language_info": {
   "codemirror_mode": {
    "name": "ipython",
    "version": 3
   },
   "file_extension": ".py",
   "mimetype": "text/x-python",
   "name": "python",
   "nbconvert_exporter": "python",
   "pygments_lexer": "ipython3",
   "version": "3.9.7"
  }
 },
 "nbformat": 4,
 "nbformat_minor": 5
}
