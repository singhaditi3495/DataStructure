{
 "cells": [
  {
   "cell_type": "code",
   "execution_count": null,
   "id": "e36d585a",
   "metadata": {},
   "outputs": [],
   "source": [
    "https://leetcode.com/problems/squares-of-a-sorted-array/\n",
    "977. Squares of a Sorted Array\n",
    "\n",
    "Given an integer array nums sorted in non-decreasing order, return an array of the squares of each number sorted in non-decreasing order.\n",
    "\n",
    " \n",
    "\n",
    "Example 1:\n",
    "\n",
    "Input: nums = [-4,-1,0,3,10]\n",
    "Output: [0,1,9,16,100]\n",
    "Explanation: After squaring, the array becomes [16,1,0,9,100].\n",
    "After sorting, it becomes [0,1,9,16,100].\n",
    "\n",
    "Example 2:\n",
    "Input: nums = [-7,-3,2,3,11]\n",
    "Output: [4,9,9,49,121] \n",
    "    "
   ]
  },
  {
   "cell_type": "code",
   "execution_count": 8,
   "id": "31de1383",
   "metadata": {},
   "outputs": [],
   "source": [
    "#Used Insertion Sort\n",
    "class Solution:\n",
    "    def sortedSquares(self, nums) :\n",
    "        sqr=[i*i for i in nums]\n",
    "        for i in range(1,len(sqr)):\n",
    "            val=i\n",
    "            \n",
    "            while val>0 and sqr[val]<sqr[val-1]:\n",
    "                sqr[val],sqr[val-1]=sqr[val-1],sqr[val]\n",
    "                val=val-1    \n",
    "        return sqr\n",
    "                "
   ]
  },
  {
   "cell_type": "code",
   "execution_count": 10,
   "id": "e2607c70",
   "metadata": {},
   "outputs": [
    {
     "name": "stdout",
     "output_type": "stream",
     "text": [
      "[0, 1, 9, 16, 100]\n",
      "[4, 9, 9, 49, 121]\n"
     ]
    }
   ],
   "source": [
    "A=Solution()\n",
    "nums1 = [-4,-1,0,3,10]\n",
    "nums2 = [-7,-3,2,3,11]\n",
    "result=A.sortedSquares(nums1)\n",
    "result1=A.sortedSquares(nums2)\n",
    "print(result)\n",
    "print(result1)"
   ]
  },
  {
   "cell_type": "code",
   "execution_count": 11,
   "id": "d7084fc1",
   "metadata": {},
   "outputs": [],
   "source": [
    "#Selection Sort\n",
    "class Solution:\n",
    "    def sortedSquares(self, nums) :\n",
    "        nums=[i*i for i in nums]\n",
    "        for i in range(0,len(nums)-1):\n",
    "            minpos=i\n",
    "            for j in range(i+1,len(nums)):# used to find the minimum element\n",
    "                if nums[j]<nums[minpos]: #find position of minimum element\n",
    "                    minpos=j\n",
    "            nums[i],nums[minpos]=nums[minpos],nums[i]\n",
    "        return nums\n",
    "            \n",
    "            \n",
    "            \n",
    "                    \n",
    "                    "
   ]
  },
  {
   "cell_type": "code",
   "execution_count": 12,
   "id": "c2550499",
   "metadata": {},
   "outputs": [
    {
     "name": "stdout",
     "output_type": "stream",
     "text": [
      "[0, 1, 9, 16, 100]\n",
      "[4, 9, 9, 49, 121]\n"
     ]
    }
   ],
   "source": [
    "A=Solution()\n",
    "nums1 = [-4,-1,0,3,10]\n",
    "nums2 = [-7,-3,2,3,11]\n",
    "result=A.sortedSquares(nums1)\n",
    "result1=A.sortedSquares(nums2)\n",
    "print(result)\n",
    "print(result1)"
   ]
  },
  {
   "cell_type": "code",
   "execution_count": null,
   "id": "c30d8b27",
   "metadata": {},
   "outputs": [],
   "source": []
  }
 ],
 "metadata": {
  "kernelspec": {
   "display_name": "Python 3 (ipykernel)",
   "language": "python",
   "name": "python3"
  },
  "language_info": {
   "codemirror_mode": {
    "name": "ipython",
    "version": 3
   },
   "file_extension": ".py",
   "mimetype": "text/x-python",
   "name": "python",
   "nbconvert_exporter": "python",
   "pygments_lexer": "ipython3",
   "version": "3.9.7"
  }
 },
 "nbformat": 4,
 "nbformat_minor": 5
}
