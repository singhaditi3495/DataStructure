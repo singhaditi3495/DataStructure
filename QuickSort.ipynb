{
 "cells": [
  {
   "cell_type": "code",
   "execution_count": 2,
   "id": "af7c3683",
   "metadata": {},
   "outputs": [
    {
     "name": "stdout",
     "output_type": "stream",
     "text": [
      "None\n",
      "[-999, -10, -9, -2, -1, 5, 9, 10, 84, 88, 89, 100, 999, 1000]\n"
     ]
    }
   ],
   "source": [
    "#Quick Sort\n",
    "\n",
    "def quicksort(nums,left,right):\n",
    "    if right-left<=1:\n",
    "        return []\n",
    "    yellow = left+1\n",
    "    for green in range(left+1,right):\n",
    "        if nums[green]<=nums[left]:\n",
    "            nums[green],nums[yellow] =nums[yellow],nums[green]\n",
    "            yellow=yellow+1\n",
    "    nums[yellow-1],nums[left]=nums[left],nums[yellow-1]\n",
    "    quicksort(nums,left,yellow-1)\n",
    "    quicksort(nums,yellow,right)\n",
    "    \n",
    "val=[100,10,1000,-1,9,5,-2,-9,88,89,84,-10,999,-999]\n",
    "#print(quicksort(val,0,len(val))) : Inplace Sorting\n",
    "print(val)\n",
    "    "
   ]
  },
  {
   "cell_type": "code",
   "execution_count": 7,
   "id": "fa79af65",
   "metadata": {},
   "outputs": [
    {
     "name": "stdout",
     "output_type": "stream",
     "text": [
      "[-999, -10, -9, -2, -1, 5, 9, 10, 84, 88, 89, 100, 999, 1000]\n"
     ]
    }
   ],
   "source": [
    "def quicksort(nums,left,right):\n",
    "    if right-left<=1:\n",
    "        return []\n",
    "    yellow = left+1\n",
    "    for green in range(left+1,right):\n",
    "        if nums[green]<=nums[left]:\n",
    "            nums[green],nums[yellow]=nums[yellow],nums[green]\n",
    "            yellow=yellow+1\n",
    "    nums[yellow-1],nums[left]=nums[left],nums[yellow-1]\n",
    "    quicksort(nums,left,yellow-1)\n",
    "    quicksort(nums,yellow,right)\n",
    "    \n",
    "val=[100,10,1000,-1,9,5,-2,-9,88,89,84,-10,999,-999]\n",
    "#print(quicksort(val,0,len(val))) : Inplace Sorting\n",
    "quicksort(val,0,len(val))\n",
    "print(val)\n",
    "    \n",
    "        "
   ]
  },
  {
   "cell_type": "code",
   "execution_count": 16,
   "id": "dd6de9c9",
   "metadata": {},
   "outputs": [
    {
     "name": "stdout",
     "output_type": "stream",
     "text": [
      "[-999, -10, -9, -2, -1, 5, 9, 10, 84, 88, 89, 100, 999, 1000]\n"
     ]
    }
   ],
   "source": [
    "def quicksort(nums,left,right):\n",
    "    \n",
    "    if right-left<=1:#list has 1 element or it is empty\n",
    "        return []\n",
    "    pointerone=left+1\n",
    "    for index in range(left+1,right):\n",
    "        if nums[index]<=nums[left]:\n",
    "            nums[index],nums[pointerone]=nums[pointerone],nums[index]\n",
    "            pointerone=pointerone+1\n",
    "    nums[pointerone-1],nums[left]=nums[left],nums[pointerone-1]\n",
    "    quicksort(nums,left,pointerone-1)\n",
    "    quicksort(nums,pointerone,right)\n",
    "        \n",
    "val=[100,10,1000,-1,9,5,-2,-9,88,89,84,-10,999,-999]\n",
    "#print(quicksort(val,0,len(val))) : Inplace Sorting\n",
    "quicksort(val,0,len(val))\n",
    "print(val)\n",
    "\n",
    "        "
   ]
  },
  {
   "cell_type": "code",
   "execution_count": 18,
   "id": "9731b081",
   "metadata": {},
   "outputs": [
    {
     "name": "stdout",
     "output_type": "stream",
     "text": [
      "[-999, -10, -9, -2, -1, 5, 9, 10, 84, 88, 89, 100, 999, 1000]\n"
     ]
    }
   ],
   "source": [
    "def quicksort(nums,left,right):\n",
    "    if right-left<1:\n",
    "        return []\n",
    "    pointerone=left+1\n",
    "    for index in range(left+1,right):\n",
    "        if nums[index]<=nums[left]:\n",
    "            nums[pointerone],nums[index]=nums[index],nums[pointerone]\n",
    "            pointerone=pointerone+1\n",
    "    nums[pointerone-1],nums[left]=nums[left],nums[pointerone-1]\n",
    "    quicksort(nums,left,pointerone-1)\n",
    "    quicksort(nums,pointerone,right)\n",
    "        \n",
    "val=[100,10,1000,-1,9,5,-2,-9,88,89,84,-10,999,-999]\n",
    "#print(quicksort(val,0,len(val))) : Inplace Sorting\n",
    "quicksort(val,0,len(val))\n",
    "print(val)\n"
   ]
  },
  {
   "cell_type": "code",
   "execution_count": null,
   "id": "39ed1d39",
   "metadata": {},
   "outputs": [],
   "source": []
  }
 ],
 "metadata": {
  "kernelspec": {
   "display_name": "Python 3 (ipykernel)",
   "language": "python",
   "name": "python3"
  },
  "language_info": {
   "codemirror_mode": {
    "name": "ipython",
    "version": 3
   },
   "file_extension": ".py",
   "mimetype": "text/x-python",
   "name": "python",
   "nbconvert_exporter": "python",
   "pygments_lexer": "ipython3",
   "version": "3.9.7"
  }
 },
 "nbformat": 4,
 "nbformat_minor": 5
}
