{
 "cells": [
  {
   "cell_type": "code",
   "execution_count": null,
   "id": "b48ad97c",
   "metadata": {},
   "outputs": [],
   "source": [
    "Insertion Sort -> We assume first element is already sorted and sort the remaining elements based on that. \n",
    "If the unsorted element is greater than the element, it is placed to the right otherwise to the left"
   ]
  },
  {
   "cell_type": "code",
   "execution_count": 8,
   "id": "3a6bae2e",
   "metadata": {},
   "outputs": [],
   "source": [
    "class Solution:\n",
    "    def InsertionSort(self,nums):\n",
    "        for i in range(len(nums)):\n",
    "            pos=i #1\n",
    "            while pos>0 and nums[pos]<nums[pos-1]: #nums[1]<nums[0] -> 5 <9\n",
    "                nums[pos],nums[pos-1]=nums[pos-1],nums[pos]\n",
    "                pos=pos-1\n",
    "        #return nums\n",
    "                \n",
    "                \n",
    "            "
   ]
  },
  {
   "cell_type": "code",
   "execution_count": 9,
   "id": "9dd85488",
   "metadata": {},
   "outputs": [
    {
     "name": "stdout",
     "output_type": "stream",
     "text": [
      "[1, 3, 4, 5, 9]\n"
     ]
    }
   ],
   "source": [
    "B=Solution()\n",
    "listval = [9,5,1,4,3]   #[5,9,1,4,3]\n",
    "B.InsertionSort(listval)\n",
    "print(listval)"
   ]
  },
  {
   "cell_type": "code",
   "execution_count": null,
   "id": "3c32434d",
   "metadata": {},
   "outputs": [],
   "source": [
    "def InsertionSort(l):\n",
    "    \n",
    "    for i in range(len(l)):\n",
    "        pos = i\n",
    "        while pos >0  and l[pos]<l[pos-1]:\n",
    "            (l[pos], l[pos-1]) = (l[pos-1], l[pos])\n",
    "            pos = pos - 1\n",
    "            print(l)"
   ]
  }
 ],
 "metadata": {
  "kernelspec": {
   "display_name": "Python 3 (ipykernel)",
   "language": "python",
   "name": "python3"
  },
  "language_info": {
   "codemirror_mode": {
    "name": "ipython",
    "version": 3
   },
   "file_extension": ".py",
   "mimetype": "text/x-python",
   "name": "python",
   "nbconvert_exporter": "python",
   "pygments_lexer": "ipython3",
   "version": "3.9.7"
  }
 },
 "nbformat": 4,
 "nbformat_minor": 5
}
