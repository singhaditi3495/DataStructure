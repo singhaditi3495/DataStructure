{
 "cells": [
  {
   "cell_type": "code",
   "execution_count": 1,
   "id": "3591d8eb",
   "metadata": {},
   "outputs": [
    {
     "name": "stdout",
     "output_type": "stream",
     "text": [
      "final value will be ->  1\n"
     ]
    }
   ],
   "source": [
    "#nums = [1,3,5,6]\n",
    "#target = 5\n",
    "#Output: 2\n",
    "nums = [1,3,5,6]\n",
    "target = 2\n",
    "#Binary Search Approach\n",
    "l=0\n",
    "r=len(nums)-1\n",
    "if target < min(nums):\n",
    "    print(0)\n",
    "elif target > max(nums):\n",
    "    print(len(nums))\n",
    "while l <= r:\n",
    "    mid = (l+r)//2\n",
    "    if nums[mid] == target:\n",
    "        print(mid)\n",
    "    elif nums[mid] < target:\n",
    "        l=mid+1\n",
    "    else:\n",
    "        r=mid-1\n",
    "print(\"final value will be -> \",l)\n",
    "    \n",
    "        \n",
    "        \n",
    "    "
   ]
  },
  {
   "cell_type": "code",
   "execution_count": 6,
   "id": "fb37b51c",
   "metadata": {},
   "outputs": [
    {
     "name": "stdout",
     "output_type": "stream",
     "text": [
      "index value will be :  1\n"
     ]
    }
   ],
   "source": [
    "nums = [1,3,5,6]\n",
    "target = 2\n",
    "\n",
    "if target in nums:\n",
    "    print(nums.index(target))\n",
    "elif target > max(nums):\n",
    "    print(len(nums))\n",
    "elif target < min(nums):\n",
    "    print(0)\n",
    "else:\n",
    "    for index,value in enumerate(nums):\n",
    "        if target > value and target < nums[index+1]:\n",
    "            print(\"index value will be : \",index+1)"
   ]
  },
  {
   "cell_type": "code",
   "execution_count": null,
   "id": "274ad3b6",
   "metadata": {},
   "outputs": [],
   "source": []
  }
 ],
 "metadata": {
  "kernelspec": {
   "display_name": "Python 3 (ipykernel)",
   "language": "python",
   "name": "python3"
  },
  "language_info": {
   "codemirror_mode": {
    "name": "ipython",
    "version": 3
   },
   "file_extension": ".py",
   "mimetype": "text/x-python",
   "name": "python",
   "nbconvert_exporter": "python",
   "pygments_lexer": "ipython3",
   "version": "3.9.7"
  }
 },
 "nbformat": 4,
 "nbformat_minor": 5
}
