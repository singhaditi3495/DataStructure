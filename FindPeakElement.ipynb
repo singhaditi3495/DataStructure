{
 "cells": [
  {
   "cell_type": "code",
   "execution_count": null,
   "id": "d16c0221",
   "metadata": {},
   "outputs": [],
   "source": [
    "https://leetcode.com/problems/find-peak-element/\n",
    "162. Find Peak Element\n",
    "A peak element is an element that is strictly greater than its neighbors.\n",
    "\n",
    "Given a 0-indexed integer array nums, find a peak element, and return its index. \n",
    "If the array contains multiple peaks, return the index to any of the peaks.\n",
    "\n",
    "You may imagine that nums[-1] = nums[n] = -∞. In other words, an element is always considered to be strictly greater \n",
    "than a neighbor that is outside the array.\n",
    "\n",
    "You must write an algorithm that runs in O(log n) time.\n",
    "\n",
    "Input: nums = [1,2,3,1]\n",
    "Output: 2\n",
    "Explanation: 3 is a peak element and your function should return the index number 2.\n",
    "\n",
    "Input: nums = [1,2,1,3,5,6,4]\n",
    "Output: 5\n",
    "Explanation: Your function can return either index number 1 where the peak element is 2, or index number 5 \n",
    "where the peak element is 6."
   ]
  },
  {
   "cell_type": "code",
   "execution_count": 14,
   "id": "c30e7f70",
   "metadata": {},
   "outputs": [
    {
     "name": "stdout",
     "output_type": "stream",
     "text": [
      "4\n",
      "result will be ->  3\n"
     ]
    }
   ],
   "source": [
    "def peakElement(nums):\n",
    "    lenval=len(nums)\n",
    "    print(lenval)\n",
    "    if lenval==1:\n",
    "        #print(\"p1\")\n",
    "        return nums[0]\n",
    "        \n",
    "    elif len(nums)>1:\n",
    "        if nums[0]>nums[1]:\n",
    "            #print(\"p2\")\n",
    "            return nums[0]\n",
    "        elif nums[lenval-1]>nums[lenval-2]:\n",
    "            #print(\"p3\")\n",
    "            return nums[lenval-1]\n",
    "        else:\n",
    "            for i in range(1,lenval-1):\n",
    "                if nums[i]>nums[i-1] and nums[i]> nums[i+1]:\n",
    "                    #print(\"p4\")\n",
    "                    return nums[i]\n",
    "A=[1,2,3,1]                \n",
    "result = peakElement(A)\n",
    "print(\"result will be -> \",result)\n",
    "        \n",
    "    \n",
    "    \n",
    "        "
   ]
  },
  {
   "cell_type": "code",
   "execution_count": 17,
   "id": "5a5d2cf3",
   "metadata": {},
   "outputs": [
    {
     "name": "stdout",
     "output_type": "stream",
     "text": [
      "result will be ->  3\n"
     ]
    }
   ],
   "source": [
    "def peakElement(nums):\n",
    "    for i in range(0,len(nums)-1):\n",
    "        if nums[i]>nums[i+1]:\n",
    "            return nums[i]\n",
    "    return nums[len(nums)-1]\n",
    "\n",
    "A=[1,2,3,1]                \n",
    "result = peakElement(A)\n",
    "print(\"result will be -> \",result)\n"
   ]
  },
  {
   "cell_type": "code",
   "execution_count": 28,
   "id": "8dde75d2",
   "metadata": {},
   "outputs": [
    {
     "data": {
      "text/plain": [
       "(1, 1)"
      ]
     },
     "execution_count": 28,
     "metadata": {},
     "output_type": "execute_result"
    }
   ],
   "source": [
    "class Solution:\n",
    "    def findPeakElement(self, nums):\n",
    "        l,r = 0,len(nums)-1\n",
    "        while l<r:\n",
    "            mid = (l+r)//2\n",
    "            if nums[mid] > nums[mid+1]:\n",
    "                r = mid\n",
    "            else:\n",
    "                l = mid + 1\n",
    "            #print(l,r,mid)\n",
    "        return nums[l],nums[r] #we can return even nums[r] also because it will be same at the point nums[l]==nums[r]\n",
    "A=Solution()\n",
    "A.findPeakElement([1])\n",
    "\n"
   ]
  },
  {
   "cell_type": "code",
   "execution_count": 29,
   "id": "9b9990a1",
   "metadata": {},
   "outputs": [
    {
     "data": {
      "text/plain": [
       "(6, 6)"
      ]
     },
     "execution_count": 29,
     "metadata": {},
     "output_type": "execute_result"
    }
   ],
   "source": [
    "B=Solution()\n",
    "B.findPeakElement([1,2,1,3,5,6,4])"
   ]
  },
  {
   "cell_type": "code",
   "execution_count": null,
   "id": "e3a062d3",
   "metadata": {},
   "outputs": [],
   "source": []
  }
 ],
 "metadata": {
  "kernelspec": {
   "display_name": "Python 3 (ipykernel)",
   "language": "python",
   "name": "python3"
  },
  "language_info": {
   "codemirror_mode": {
    "name": "ipython",
    "version": 3
   },
   "file_extension": ".py",
   "mimetype": "text/x-python",
   "name": "python",
   "nbconvert_exporter": "python",
   "pygments_lexer": "ipython3",
   "version": "3.9.7"
  }
 },
 "nbformat": 4,
 "nbformat_minor": 5
}
