{
 "cells": [
  {
   "cell_type": "code",
   "execution_count": 23,
   "id": "e641556b",
   "metadata": {},
   "outputs": [],
   "source": [
    "#Merge Sort Algorithm\n",
    "#nums1=[1,2,3,4], nums2=[5,6,7,8,9]\n",
    "class solution:\n",
    "    def mergeSort(self,nums1,nums2):\n",
    "        newlist=[]\n",
    "        lenA=len(nums1)\n",
    "        lenB=len(nums2)\n",
    "        i,j=0,0\n",
    "        while i+j < lenA+lenB:\n",
    "            if i==lenA:\n",
    "                newlist.append(nums2[j])\n",
    "                j=j+1\n",
    "            \n",
    "            elif j==lenB:\n",
    "                newlist.append(nums1[i])\n",
    "                i=i+1\n",
    "                \n",
    "            elif nums1[i]<nums2[j]:  #nums1[i] is smaller\n",
    "                newlist.append(nums1[i])\n",
    "                i=i+1\n",
    "            elif nums1[i]>=nums2[j]:  #nums2[j] is smaller\n",
    "                newlist.append(nums2[j])\n",
    "                j=j+1\n",
    "        return newlist\n",
    "    \n",
    "    def merge(self,nums,left,right):\n",
    "        if right-left <= 1:\n",
    "            return nums[left:right]\n",
    "        if right-left>1:\n",
    "            mid=(left+right)//2\n",
    "            L=merge(nums,left,mid)\n",
    "            R=merge(nums,mid,right)\n",
    "            return mergeSort(L,R)\n",
    "            \n",
    "                \n",
    "                \n",
    "            \n",
    "        "
   ]
  },
  {
   "cell_type": "code",
   "execution_count": 24,
   "id": "f258ccf6",
   "metadata": {},
   "outputs": [
    {
     "name": "stdout",
     "output_type": "stream",
     "text": [
      "final sorted list will be ->  [1, 2, 3, 4, 5, 6, 7, 8, 9]\n",
      "final sorted list after merge function will be ->  [-5, -1, 1, 3, 8, 9, 10]\n"
     ]
    }
   ],
   "source": [
    "nums1=[1,2,3,4]\n",
    "nums2=[5,6,7,8,9]\n",
    "nums=[9,8,-5,10,-1,3,1]\n",
    "A=solution()\n",
    "res=A.mergeSort(nums1,nums2)\n",
    "print(\"final sorted list will be -> \",res)\n",
    "res1=A.merge(nums,0,len(nums))\n",
    "print(\"final sorted list after merge function will be -> \",res1)"
   ]
  },
  {
   "cell_type": "code",
   "execution_count": 17,
   "id": "5000d6c7",
   "metadata": {},
   "outputs": [],
   "source": [
    "def mergeSort(nums1,nums2):\n",
    "        newlist=[]\n",
    "        lenA=len(nums1)\n",
    "        lenB=len(nums2)\n",
    "        i,j=0,0\n",
    "        while i+j < lenA+lenB:\n",
    "            if i==lenA:\n",
    "                newlist.append(nums2[j])\n",
    "                j=j+1\n",
    "            \n",
    "            elif j==lenB:\n",
    "                newlist.append(nums1[i])\n",
    "                i=i+1\n",
    "                \n",
    "            elif nums1[i]<nums2[j]:  #nums1[i] is smaller\n",
    "                newlist.append(nums1[i])\n",
    "                i=i+1\n",
    "            elif nums1[i]>=nums2[j]:  #nums2[j] is smaller\n",
    "                newlist.append(nums2[j])\n",
    "                j=j+1\n",
    "        return newlist\n",
    "    \n",
    "def merge(nums,left,right):\n",
    "        if right-left <= 1:\n",
    "            return nums[left:right]\n",
    "        if right-left>1:\n",
    "            mid=(left+right)//2\n",
    "            L=merge(nums,left,mid)\n",
    "            R=merge(nums,mid,right)\n",
    "            return mergeSort(L,R)\n"
   ]
  },
  {
   "cell_type": "code",
   "execution_count": 18,
   "id": "be42f6c6",
   "metadata": {},
   "outputs": [
    {
     "name": "stdout",
     "output_type": "stream",
     "text": [
      "final sorted list will be ->  [1, 2, 3, 4, 5, 6, 7, 8, 9]\n",
      "final sorted list after merge function will be ->  [-5, -1, 1, 3, 8, 9, 10]\n"
     ]
    }
   ],
   "source": [
    "nums1=[1,2,3,4]\n",
    "nums2=[5,6,7,8,9]\n",
    "nums=[9,8,-5,10,-1,3,1]\n",
    "res=mergeSort(nums1,nums2)\n",
    "print(\"final sorted list will be -> \",res)\n",
    "res1=merge(nums,0,len(nums))\n",
    "print(\"final sorted list after merge function will be -> \",res1)"
   ]
  },
  {
   "cell_type": "code",
   "execution_count": null,
   "id": "b8dd031b",
   "metadata": {},
   "outputs": [],
   "source": []
  }
 ],
 "metadata": {
  "kernelspec": {
   "display_name": "Python 3 (ipykernel)",
   "language": "python",
   "name": "python3"
  },
  "language_info": {
   "codemirror_mode": {
    "name": "ipython",
    "version": 3
   },
   "file_extension": ".py",
   "mimetype": "text/x-python",
   "name": "python",
   "nbconvert_exporter": "python",
   "pygments_lexer": "ipython3",
   "version": "3.9.7"
  }
 },
 "nbformat": 4,
 "nbformat_minor": 5
}
