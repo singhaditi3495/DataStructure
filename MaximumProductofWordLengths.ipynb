{
 "cells": [
  {
   "cell_type": "code",
   "execution_count": null,
   "id": "c96a6ecb",
   "metadata": {},
   "outputs": [],
   "source": [
    "https://leetcode.com/problems/maximum-product-of-word-lengths/\n",
    "318. Maximum Product of Word Lengths\n",
    "Given a string array words, return the maximum value of length(word[i]) * length(word[j]) \n",
    "where the two words do not share common letters. If no such two words exist, return 0.\n",
    "\n",
    "Input: words = [\"abcw\",\"baz\",\"foo\",\"bar\",\"xtfn\",\"abcdef\"]\n",
    "Output: 16\n",
    "Explanation: The two words can be \"abcw\", \"xtfn\".\n",
    "    \n",
    "Input: words = [\"a\",\"ab\",\"abc\",\"d\",\"cd\",\"bcd\",\"abcd\"]\n",
    "Output: 4\n",
    "Explanation: The two words can be \"ab\", \"cd\".\n",
    "    \n",
    "Input: words = [\"a\",\"aa\",\"aaa\",\"aaaa\"]\n",
    "Output: 0\n",
    "Explanation: No such pair of words.\n"
   ]
  },
  {
   "cell_type": "code",
   "execution_count": 11,
   "id": "e8af13e4",
   "metadata": {},
   "outputs": [],
   "source": [
    "class Solution:\n",
    "    def maxProduct(self, words):\n",
    "        list1=[set(i) for i in  words]\n",
    "        print(\"set list value will be -> \",list1)\n",
    "        maxval=0\n",
    "        for i in range(len(words)):#abcw\n",
    "            for j in range(i+1,len(words)):#baz\n",
    "                if not (list1[i] & list1[j]):\n",
    "                    maxval=max(maxval,len(words[i])*len(words[j]))\n",
    "        return maxval\n",
    "                    \n",
    "                    \n",
    "                \n",
    "            \n",
    "            "
   ]
  },
  {
   "cell_type": "code",
   "execution_count": 12,
   "id": "2dc09122",
   "metadata": {},
   "outputs": [
    {
     "name": "stdout",
     "output_type": "stream",
     "text": [
      "set list value will be ->  [{'w', 'c', 'a', 'b'}, {'a', 'z', 'b'}, {'f', 'o'}, {'a', 'r', 'b'}, {'x', 'f', 'n', 't'}, {'f', 'c', 'a', 'e', 'b', 'd'}]\n",
      "Final value will be ->  16\n"
     ]
    }
   ],
   "source": [
    "A=Solution()\n",
    "result=A.maxProduct([\"abcw\",\"baz\",\"foo\",\"bar\",\"xtfn\",\"abcdef\"])\n",
    "print(\"Final value will be -> \",result)"
   ]
  },
  {
   "cell_type": "code",
   "execution_count": 23,
   "id": "ca72993b",
   "metadata": {},
   "outputs": [],
   "source": [
    "class Solution1:\n",
    "    def maxProduct1(self,words):\n",
    "        listval=[set(i) for i in words]\n",
    "        finalval=0\n",
    "        print(\"set list will be -> \",listval)\n",
    "        for i in range(len(words)):\n",
    "            for j in range(i+1,len(words)):\n",
    "                if not (listval[i] & listval[j]):\n",
    "                    finalval=max(finalval,len(words[i])*len(words[j]))\n",
    "        return finalval\n",
    "                    "
   ]
  },
  {
   "cell_type": "code",
   "execution_count": 24,
   "id": "668c8b51",
   "metadata": {},
   "outputs": [
    {
     "name": "stdout",
     "output_type": "stream",
     "text": [
      "set list will be ->  [{'w', 'c', 'a', 'b'}, {'a', 'z', 'b'}, {'f', 'o'}, {'a', 'r', 'b'}, {'x', 'f', 'n', 't'}, {'f', 'c', 'a', 'e', 'b', 'd'}]\n",
      "Final value will be ->  16\n"
     ]
    }
   ],
   "source": [
    "B=Solution1()\n",
    "result1=B.maxProduct1([\"abcw\",\"baz\",\"foo\",\"bar\",\"xtfn\",\"abcdef\"])\n",
    "print(\"Final value will be -> \",result1)"
   ]
  },
  {
   "cell_type": "code",
   "execution_count": null,
   "id": "a13c3bfc",
   "metadata": {},
   "outputs": [],
   "source": []
  }
 ],
 "metadata": {
  "kernelspec": {
   "display_name": "Python 3 (ipykernel)",
   "language": "python",
   "name": "python3"
  },
  "language_info": {
   "codemirror_mode": {
    "name": "ipython",
    "version": 3
   },
   "file_extension": ".py",
   "mimetype": "text/x-python",
   "name": "python",
   "nbconvert_exporter": "python",
   "pygments_lexer": "ipython3",
   "version": "3.9.7"
  }
 },
 "nbformat": 4,
 "nbformat_minor": 5
}
