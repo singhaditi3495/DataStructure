{
 "cells": [
  {
   "cell_type": "code",
   "execution_count": 8,
   "id": "c6aa4c45",
   "metadata": {},
   "outputs": [
    {
     "name": "stdout",
     "output_type": "stream",
     "text": [
      "False\n",
      "emp value will be ->  ['[']\n"
     ]
    }
   ],
   "source": [
    "s = \"(){}[\"\n",
    "emp = []\n",
    "for i in s:\n",
    "    if emp:\n",
    "        if i==')' and emp[-1]=='(':\n",
    "            emp.pop()\n",
    "        elif i=='}' and emp[-1]=='{':\n",
    "            emp.pop()\n",
    "        elif i==']' and emp[-1]=='[':\n",
    "            emp.pop()\n",
    "        else:\n",
    "            emp.append(i)\n",
    "            #print(\"emp value will be -> \",emp)\n",
    "    else:\n",
    "        emp.append(i)\n",
    "        #print(\"emp value will be -> \",emp)\n",
    "print(len(emp)==0)\n",
    "print(\"emp value will be -> \",emp)    \n",
    "            \n",
    "        \n",
    "        \n"
   ]
  },
  {
   "cell_type": "code",
   "execution_count": null,
   "id": "012982a0",
   "metadata": {},
   "outputs": [],
   "source": []
  },
  {
   "cell_type": "code",
   "execution_count": null,
   "id": "44dbcc31",
   "metadata": {},
   "outputs": [],
   "source": []
  }
 ],
 "metadata": {
  "kernelspec": {
   "display_name": "Python 3 (ipykernel)",
   "language": "python",
   "name": "python3"
  },
  "language_info": {
   "codemirror_mode": {
    "name": "ipython",
    "version": 3
   },
   "file_extension": ".py",
   "mimetype": "text/x-python",
   "name": "python",
   "nbconvert_exporter": "python",
   "pygments_lexer": "ipython3",
   "version": "3.9.7"
  }
 },
 "nbformat": 4,
 "nbformat_minor": 5
}
