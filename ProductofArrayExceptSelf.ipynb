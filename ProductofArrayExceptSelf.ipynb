{
 "cells": [
  {
   "cell_type": "code",
   "execution_count": null,
   "id": "2ed990ca",
   "metadata": {},
   "outputs": [],
   "source": [
    "238. Product of Array Except Self\n",
    "https://leetcode.com/problems/product-of-array-except-self/\n",
    "\n",
    "Given an integer array nums, return an array answer such that answer[i] is equal to the product of all \n",
    "the elements of nums except nums[i].\n",
    "\n",
    "The product of any prefix or suffix of nums is guaranteed to fit in a 32-bit integer.\n",
    "\n",
    "You must write an algorithm that runs in O(n) time and without using the division operation.\n",
    "\n",
    "Input: nums = [1,2,3,4]\n",
    "Output: [24,12,8,6]\n",
    "    \n",
    "Input: nums = [-1,1,0,-3,3]\n",
    "Output: [0,0,9,0,0]"
   ]
  },
  {
   "cell_type": "code",
   "execution_count": 12,
   "id": "d2785be6",
   "metadata": {},
   "outputs": [],
   "source": [
    "from functools import reduce\n",
    "\n",
    "class Solution:\n",
    "    def productExceptSelf(self, nums) :\n",
    "        mul=1\n",
    "        emplist=[]\n",
    "        res = reduce((lambda x, y: x * y), nums)\n",
    "        if 0 not in nums:\n",
    "            for i in nums:\n",
    "                emplist.append(res//i)\n",
    "        else:\n",
    "            num=nums[:]\n",
    "            num.remove(0)\n",
    "            res1 = reduce((lambda x, y: x * y), num)\n",
    "            for i in nums:\n",
    "                if i == 0:\n",
    "                    emplist.append(res1)\n",
    "                else:\n",
    "                    emplist.append(0)\n",
    "        return emplist\n",
    "            \n",
    "            \n",
    "        "
   ]
  },
  {
   "cell_type": "code",
   "execution_count": 14,
   "id": "6ce4aa2e",
   "metadata": {},
   "outputs": [
    {
     "name": "stdout",
     "output_type": "stream",
     "text": [
      "[24, 12, 8, 6]\n",
      "[0, 0, 9, 0, 0]\n"
     ]
    }
   ],
   "source": [
    "A=Solution()\n",
    "result=A.productExceptSelf([1,2,3,4])\n",
    "result1=A.productExceptSelf([-1,1,0,-3,3])\n",
    "print(result)\n",
    "print(result1)"
   ]
  },
  {
   "cell_type": "code",
   "execution_count": null,
   "id": "fe2dc5b4",
   "metadata": {},
   "outputs": [],
   "source": []
  },
  {
   "cell_type": "code",
   "execution_count": null,
   "id": "14624044",
   "metadata": {},
   "outputs": [],
   "source": []
  }
 ],
 "metadata": {
  "kernelspec": {
   "display_name": "Python 3 (ipykernel)",
   "language": "python",
   "name": "python3"
  },
  "language_info": {
   "codemirror_mode": {
    "name": "ipython",
    "version": 3
   },
   "file_extension": ".py",
   "mimetype": "text/x-python",
   "name": "python",
   "nbconvert_exporter": "python",
   "pygments_lexer": "ipython3",
   "version": "3.9.7"
  }
 },
 "nbformat": 4,
 "nbformat_minor": 5
}
