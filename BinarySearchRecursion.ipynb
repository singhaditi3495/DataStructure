{
 "cells": [
  {
   "cell_type": "code",
   "execution_count": 5,
   "id": "c5c13f90",
   "metadata": {},
   "outputs": [
    {
     "name": "stdout",
     "output_type": "stream",
     "text": [
      "[2, 4, 5, 6, 7, 8, 9, 10, 12]\n",
      "mid value 4\n",
      "mid value 6\n",
      "mid value 7\n",
      "mid value 8\n",
      "Outval Found  12 at the  8  index\n",
      "Value found as ->  12  and it's index will be ->  8\n"
     ]
    }
   ],
   "source": [
    "#binary search (find the target)\n",
    "#basic Approach\n",
    "nums = [9,6,7,10,12,4,2,8,5]\n",
    "outval=12\n",
    "nums.sort()\n",
    "print(nums)\n",
    "l=0\n",
    "r=len(nums)-1\n",
    "\n",
    "while l<=r:\n",
    "    mid = l+(r-l)//2\n",
    "    print(\"mid value\",mid)\n",
    "    if nums[mid] ==outval:\n",
    "        print(\"Outval Found \",nums[mid], \"at the \",mid, \" index\")\n",
    "        break\n",
    "    elif nums[mid]<outval:\n",
    "        l=mid+1\n",
    "    else:\n",
    "        r=mid-1\n",
    "        \n",
    "print(\"Value found as -> \",nums[mid],\" and it's index will be -> \",mid)        "
   ]
  },
  {
   "cell_type": "code",
   "execution_count": 7,
   "id": "156079c5",
   "metadata": {},
   "outputs": [
    {
     "name": "stdout",
     "output_type": "stream",
     "text": [
      "index result will be ->  8  and number to be checked was ->  12\n"
     ]
    }
   ],
   "source": [
    "def binary_search(nums,left,right,outval):\n",
    "    if left <=right:\n",
    "        mid=(left+right)//2\n",
    "        if nums[mid]==outval:\n",
    "            return mid\n",
    "        elif nums[mid]<outval:\n",
    "            return binary_search(nums,mid+1,right,outval)\n",
    "        else:\n",
    "            return binary_search(nums,left,mid-1,outval)\n",
    "result = binary_search(nums,0,len(nums)-1,12)\n",
    "print(\"index result will be -> \",result, \" and number to be checked was -> \",nums[result])\n",
    "        "
   ]
  },
  {
   "cell_type": "code",
   "execution_count": null,
   "id": "78a136d5",
   "metadata": {},
   "outputs": [],
   "source": []
  }
 ],
 "metadata": {
  "kernelspec": {
   "display_name": "Python 3 (ipykernel)",
   "language": "python",
   "name": "python3"
  },
  "language_info": {
   "codemirror_mode": {
    "name": "ipython",
    "version": 3
   },
   "file_extension": ".py",
   "mimetype": "text/x-python",
   "name": "python",
   "nbconvert_exporter": "python",
   "pygments_lexer": "ipython3",
   "version": "3.9.7"
  }
 },
 "nbformat": 4,
 "nbformat_minor": 5
}
