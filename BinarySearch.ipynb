{
 "cells": [
  {
   "cell_type": "code",
   "execution_count": 1,
   "id": "e657f7fa",
   "metadata": {},
   "outputs": [
    {
     "name": "stdout",
     "output_type": "stream",
     "text": [
      "index value will be ->  3\n"
     ]
    }
   ],
   "source": [
    "nums = [5,6,7,8,9]\n",
    "output = 8\n",
    "\n",
    "for index,value in enumerate(nums):\n",
    "    if output == value:\n",
    "        print(\"index value will be -> \",index)"
   ]
  },
  {
   "cell_type": "code",
   "execution_count": 7,
   "id": "948f08ac",
   "metadata": {},
   "outputs": [
    {
     "name": "stdout",
     "output_type": "stream",
     "text": [
      "mid value will be :  3\n"
     ]
    }
   ],
   "source": [
    "nums = [5,6,7,8,9]\n",
    "output=8\n",
    "l=0\n",
    "r=len(nums)-1\n",
    "\n",
    "while l<=r:\n",
    "    mid=l+(r-l)//2\n",
    "    if nums[mid]==output:\n",
    "        #print(mid)\n",
    "        break\n",
    "    elif nums[mid] < output:\n",
    "        l=mid+1\n",
    "    elif nums[mid] >output:\n",
    "        r=mid-1\n",
    "    #l=l+1\n",
    "    #r=r-1\n",
    "        \n",
    "print(\"mid value will be : \",mid)        \n",
    "    "
   ]
  },
  {
   "cell_type": "code",
   "execution_count": null,
   "id": "1569f012",
   "metadata": {},
   "outputs": [],
   "source": []
  }
 ],
 "metadata": {
  "kernelspec": {
   "display_name": "Python 3 (ipykernel)",
   "language": "python",
   "name": "python3"
  },
  "language_info": {
   "codemirror_mode": {
    "name": "ipython",
    "version": 3
   },
   "file_extension": ".py",
   "mimetype": "text/x-python",
   "name": "python",
   "nbconvert_exporter": "python",
   "pygments_lexer": "ipython3",
   "version": "3.9.7"
  }
 },
 "nbformat": 4,
 "nbformat_minor": 5
}
