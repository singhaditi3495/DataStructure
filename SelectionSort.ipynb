{
 "cells": [
  {
   "cell_type": "code",
   "execution_count": null,
   "id": "e41aa6ac",
   "metadata": {},
   "outputs": [],
   "source": [
    "SelectionSort : \n",
    "    \n",
    "[20,12,10,15,2] : assume element at index 0 as minimum element\n",
    "-> [2,12,10,15,20] : swap the least element 2 with the element at first position\n",
    "-> [2,10,12,15,20] : swap the least element 10 with the element except at first position(2)\n"
   ]
  },
  {
   "cell_type": "code",
   "execution_count": 3,
   "id": "d0818f4f",
   "metadata": {},
   "outputs": [],
   "source": [
    "class Solution:\n",
    "    def SelectionSort(self,nums):\n",
    "        for i in range(len(nums)-1): #0\n",
    "            pos=i #0\n",
    "            for j in range (i+1,len(nums)): #1\n",
    "                if nums[j]<nums[pos]: #nums[1]<nums[0]\n",
    "                    pos=j#1\n",
    "            nums[i],nums[pos]=nums[pos],nums[i]  #nums[i]->nums[1],nums[pos]->nums[0]\n",
    "            "
   ]
  },
  {
   "cell_type": "code",
   "execution_count": 4,
   "id": "378a0768",
   "metadata": {},
   "outputs": [
    {
     "name": "stdout",
     "output_type": "stream",
     "text": [
      "[2, 10, 12, 15, 20]\n"
     ]
    }
   ],
   "source": [
    "B=Solution()\n",
    "listval=[20,12,10,15,2]\n",
    "B.SelectionSort(listval)\n",
    "print(listval)"
   ]
  },
  {
   "cell_type": "code",
   "execution_count": 5,
   "id": "17b2fd27",
   "metadata": {},
   "outputs": [],
   "source": [
    "class Dolution:\n",
    "    def selectionsort(self,nums):\n",
    "        for i in range(0,len(nums)-1):\n",
    "            pos=i\n",
    "            for j in range(i+1,len(nums)): # to check and compare minimum element\n",
    "                if nums[j]<nums[pos]:\n",
    "                    pos=j  #minimum element will get once this loop will be finished\n",
    "            nums[pos],nums[i]=nums[i],nums[pos]\n",
    "                \n",
    "        "
   ]
  },
  {
   "cell_type": "code",
   "execution_count": 8,
   "id": "813a5157",
   "metadata": {},
   "outputs": [
    {
     "name": "stdout",
     "output_type": "stream",
     "text": [
      "[2, 10, 12, 15, 20]\n"
     ]
    }
   ],
   "source": [
    "C=Dolution()\n",
    "listval=[20,12,10,15,2]\n",
    "C.selectionsort(listval)\n",
    "print(listval)"
   ]
  },
  {
   "cell_type": "code",
   "execution_count": null,
   "id": "3edc32fb",
   "metadata": {},
   "outputs": [],
   "source": []
  },
  {
   "cell_type": "code",
   "execution_count": null,
   "id": "6d753d52",
   "metadata": {},
   "outputs": [],
   "source": []
  }
 ],
 "metadata": {
  "kernelspec": {
   "display_name": "Python 3 (ipykernel)",
   "language": "python",
   "name": "python3"
  },
  "language_info": {
   "codemirror_mode": {
    "name": "ipython",
    "version": 3
   },
   "file_extension": ".py",
   "mimetype": "text/x-python",
   "name": "python",
   "nbconvert_exporter": "python",
   "pygments_lexer": "ipython3",
   "version": "3.9.7"
  }
 },
 "nbformat": 4,
 "nbformat_minor": 5
}
