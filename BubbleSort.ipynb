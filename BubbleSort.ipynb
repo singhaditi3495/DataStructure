{
 "cells": [
  {
   "cell_type": "code",
   "execution_count": null,
   "id": "221717fe",
   "metadata": {},
   "outputs": [],
   "source": [
    "BUBBLE SORT\n",
    "\n",
    "1. First Iteration (Compare and Swap)\n",
    "\n",
    "Starting from the first index, compare the first and the second elements.\n",
    "If the first element is greater than the second element, they are swapped.\n",
    "Now, compare the second and the third elements. Swap them if they are not in order.\n",
    "The above process goes on until the last element\n",
    "\n",
    "\n",
    "We are shifting largest element at the last and likewise"
   ]
  },
  {
   "cell_type": "code",
   "execution_count": 1,
   "id": "7b729d30",
   "metadata": {},
   "outputs": [],
   "source": [
    "class Solution:\n",
    "    def BubbleSort(self,nums):\n",
    "        for i in range(0,len(nums)):\n",
    "            for j in range(0,len(nums)-1-i):\n",
    "                if nums[j]>nums[j+1]:\n",
    "                    nums[j],nums[j+1]=nums[j+1],nums[j]\n",
    "                "
   ]
  },
  {
   "cell_type": "code",
   "execution_count": 3,
   "id": "fa604774",
   "metadata": {},
   "outputs": [
    {
     "name": "stdout",
     "output_type": "stream",
     "text": [
      "[-9, -2, 0, 11, 45]\n"
     ]
    }
   ],
   "source": [
    "B=Solution()\n",
    "listval=[-2,45,0,11,-9]\n",
    "B.BubbleSort(listval)\n",
    "print(listval)"
   ]
  },
  {
   "cell_type": "code",
   "execution_count": null,
   "id": "9807d2f9",
   "metadata": {},
   "outputs": [],
   "source": [
    "class solution:\n",
    "    def bubblesort(self,nums):\n",
    "        for i in range(0,len(nums)):\n",
    "            for j in range(0,len(nums)-i-1):\n",
    "                if nums[j]>nums[j+1]:\n",
    "                    nums[j],nums[j+1]=nums[j+1],nums[j]\n",
    "                    "
   ]
  },
  {
   "cell_type": "code",
   "execution_count": 4,
   "id": "b4e5d1fa",
   "metadata": {},
   "outputs": [
    {
     "name": "stdout",
     "output_type": "stream",
     "text": [
      "[-9, -2, 0, 11, 45]\n"
     ]
    }
   ],
   "source": [
    "B=Solution()\n",
    "listval=[-2,45,0,11,-9]\n",
    "B.BubbleSort(listval)\n",
    "print(listval)"
   ]
  },
  {
   "cell_type": "code",
   "execution_count": null,
   "id": "81f6e376",
   "metadata": {},
   "outputs": [],
   "source": []
  }
 ],
 "metadata": {
  "kernelspec": {
   "display_name": "Python 3 (ipykernel)",
   "language": "python",
   "name": "python3"
  },
  "language_info": {
   "codemirror_mode": {
    "name": "ipython",
    "version": 3
   },
   "file_extension": ".py",
   "mimetype": "text/x-python",
   "name": "python",
   "nbconvert_exporter": "python",
   "pygments_lexer": "ipython3",
   "version": "3.9.7"
  }
 },
 "nbformat": 4,
 "nbformat_minor": 5
}
