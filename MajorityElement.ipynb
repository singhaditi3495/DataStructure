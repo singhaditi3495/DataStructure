{
 "cells": [
  {
   "cell_type": "code",
   "execution_count": null,
   "id": "671ee847",
   "metadata": {},
   "outputs": [],
   "source": [
    "https://leetcode.com/problems/majority-element/\n",
    "169. Majority Element\n",
    "Given an array nums of size n, return the majority element.\n",
    "\n",
    "The majority element is the element that appears more than ⌊n / 2⌋ times. \n",
    "You may assume that the majority element always exists in the array.\n",
    "\n",
    "Input: nums = [3,2,3]\n",
    "Output: 3\n",
    "    \n",
    "Input: nums = [2,2,1,1,1,2,2]\n",
    "Output: 2\n"
   ]
  },
  {
   "cell_type": "code",
   "execution_count": 1,
   "id": "67e85e44",
   "metadata": {},
   "outputs": [],
   "source": [
    "class Solution:\n",
    "    def majorityElement(self, nums) :\n",
    "        for i in nums:\n",
    "            if nums.count(i)>len(nums)//2:\n",
    "                return i"
   ]
  },
  {
   "cell_type": "code",
   "execution_count": 2,
   "id": "698351bd",
   "metadata": {},
   "outputs": [
    {
     "name": "stdout",
     "output_type": "stream",
     "text": [
      "3\n",
      "2\n"
     ]
    }
   ],
   "source": [
    "A=Solution()\n",
    "nums1 = [3,2,3]\n",
    "nums2 = [2,2,1,1,1,2,2]\n",
    "result=A.majorityElement(nums1)\n",
    "result1=A.majorityElement(nums2)\n",
    "print(result)\n",
    "print(result1)"
   ]
  },
  {
   "cell_type": "code",
   "execution_count": 10,
   "id": "6e5dfd81",
   "metadata": {},
   "outputs": [],
   "source": [
    "from collections import Counter\n",
    "class Solution:\n",
    "    def majorityElement(self, nums) :\n",
    "        a=Counter(nums)\n",
    "        #print(a)\n",
    "        for key,value in a.items():\n",
    "            if value > len(nums)//2:\n",
    "                return key\n",
    "            "
   ]
  },
  {
   "cell_type": "code",
   "execution_count": 11,
   "id": "c35962f7",
   "metadata": {},
   "outputs": [
    {
     "name": "stdout",
     "output_type": "stream",
     "text": [
      "3\n",
      "2\n"
     ]
    }
   ],
   "source": [
    "A=Solution()\n",
    "nums1 = [3,2,3]\n",
    "nums2 = [2,2,1,1,1,2,2]\n",
    "result=A.majorityElement(nums1)\n",
    "result1=A.majorityElement(nums2)\n",
    "print(result)\n",
    "print(result1)"
   ]
  },
  {
   "cell_type": "code",
   "execution_count": null,
   "id": "d4bff8d8",
   "metadata": {},
   "outputs": [],
   "source": []
  }
 ],
 "metadata": {
  "kernelspec": {
   "display_name": "Python 3 (ipykernel)",
   "language": "python",
   "name": "python3"
  },
  "language_info": {
   "codemirror_mode": {
    "name": "ipython",
    "version": 3
   },
   "file_extension": ".py",
   "mimetype": "text/x-python",
   "name": "python",
   "nbconvert_exporter": "python",
   "pygments_lexer": "ipython3",
   "version": "3.9.7"
  }
 },
 "nbformat": 4,
 "nbformat_minor": 5
}
