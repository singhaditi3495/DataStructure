{
 "cells": [
  {
   "cell_type": "code",
   "execution_count": null,
   "id": "96631796",
   "metadata": {},
   "outputs": [],
   "source": [
    "https://workat.tech/problem-solving/practice/maximum-k-subarray-sum\n",
    "Maximum K-Subarray Sum\n",
    "\n",
    "Given an array and a number k, find the sum of the subarray that has the maximum sum among all the subarrays of size k.\n",
    "Array: [3, 5, 6, 2, 4, 7, 8]\n",
    "k: 3\n",
    "Here, the subarrays of size k and their sum are:\n",
    "[3 5 6] => 14\n",
    "[5 6 2] => 13\n",
    "[6 2 4] => 12\n",
    "[2 4 7] => 13\n",
    "[4 7 8] => 19\n",
    "Answer: 19\n"
   ]
  },
  {
   "cell_type": "code",
   "execution_count": 1,
   "id": "f49c7ea9",
   "metadata": {},
   "outputs": [
    {
     "name": "stdout",
     "output_type": "stream",
     "text": [
      "output will be ->  19\n"
     ]
    }
   ],
   "source": [
    "def subarraysum(nums,size):\n",
    "    empval=0\n",
    "    l,r=0,size\n",
    "    for i in range(0,len(nums)-size+1):\n",
    "        val=sum(nums[l:r])\n",
    "        l=l+1\n",
    "        r=r+1\n",
    "        empval=max(empval,val)\n",
    "    return empval\n",
    "\n",
    "nums=[3, 5, 6, 2, 4, 7, 8]\n",
    "target=3\n",
    "\n",
    "finalval=subarraysum(nums,target)\n",
    "print(\"output will be -> \",finalval)\n",
    "    "
   ]
  },
  {
   "cell_type": "code",
   "execution_count": null,
   "id": "3f3f44ee",
   "metadata": {},
   "outputs": [],
   "source": []
  }
 ],
 "metadata": {
  "kernelspec": {
   "display_name": "Python 3 (ipykernel)",
   "language": "python",
   "name": "python3"
  },
  "language_info": {
   "codemirror_mode": {
    "name": "ipython",
    "version": 3
   },
   "file_extension": ".py",
   "mimetype": "text/x-python",
   "name": "python",
   "nbconvert_exporter": "python",
   "pygments_lexer": "ipython3",
   "version": "3.9.7"
  }
 },
 "nbformat": 4,
 "nbformat_minor": 5
}
