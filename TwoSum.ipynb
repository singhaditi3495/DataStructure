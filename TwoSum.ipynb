{
 "cells": [
  {
   "cell_type": "code",
   "execution_count": null,
   "id": "925b3b5b",
   "metadata": {},
   "outputs": [],
   "source": []
  },
  {
   "cell_type": "code",
   "execution_count": 11,
   "id": "c47aa21d",
   "metadata": {},
   "outputs": [
    {
     "name": "stdout",
     "output_type": "stream",
     "text": [
      "[[0, 1], [2, 4], [3, 5]]\n"
     ]
    }
   ],
   "source": [
    "nums = [7,2,5,6,4,3]\n",
    "target = 9\n",
    "emplist =[]\n",
    "dict1 = {}\n",
    "for index,value in enumerate(nums):\n",
    "    diffval=target-value\n",
    "    if diffval in dict1:\n",
    "        #print(emplist)\n",
    "        emplist.append([dict1[diffval],index])\n",
    "        \n",
    "    else:\n",
    "        dict1[value]=index\n",
    "print(emplist)"
   ]
  },
  {
   "cell_type": "code",
   "execution_count": null,
   "id": "32c19578",
   "metadata": {},
   "outputs": [],
   "source": []
  }
 ],
 "metadata": {
  "kernelspec": {
   "display_name": "Python 3 (ipykernel)",
   "language": "python",
   "name": "python3"
  },
  "language_info": {
   "codemirror_mode": {
    "name": "ipython",
    "version": 3
   },
   "file_extension": ".py",
   "mimetype": "text/x-python",
   "name": "python",
   "nbconvert_exporter": "python",
   "pygments_lexer": "ipython3",
   "version": "3.9.7"
  }
 },
 "nbformat": 4,
 "nbformat_minor": 5
}
