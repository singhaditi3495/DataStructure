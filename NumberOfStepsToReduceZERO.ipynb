{
 "cells": [
  {
   "cell_type": "code",
   "execution_count": null,
   "id": "3585136e",
   "metadata": {},
   "outputs": [],
   "source": [
    "1342. Number of Steps to Reduce a Number to Zero\n",
    "https://leetcode.com/problems/number-of-steps-to-reduce-a-number-to-zero/\n",
    "Input: num = 14\n",
    "Output: 6\n",
    "Explanation: \n",
    "Step 1) 14 is even; divide by 2 and obtain 7. \n",
    "Step 2) 7 is odd; subtract 1 and obtain 6.\n",
    "Step 3) 6 is even; divide by 2 and obtain 3. \n",
    "Step 4) 3 is odd; subtract 1 and obtain 2. \n",
    "Step 5) 2 is even; divide by 2 and obtain 1. \n",
    "Step 6) 1 is odd; subtract 1 and obtain 0.\n",
    "    "
   ]
  },
  {
   "cell_type": "code",
   "execution_count": 2,
   "id": "422c6451",
   "metadata": {},
   "outputs": [
    {
     "name": "stdout",
     "output_type": "stream",
     "text": [
      "result will be ->  6\n"
     ]
    }
   ],
   "source": [
    "def numberOfSteps(num: int) -> int:\n",
    "    counter=0\n",
    "    while num!=0:\n",
    "        if num%2==0:\n",
    "            num=num/2\n",
    "            counter+=1\n",
    "        else:\n",
    "            num=num-1\n",
    "            counter+=1\n",
    "    return counter\n",
    "\n",
    "result = numberOfSteps(14)\n",
    "print(\"result will be -> \",result)\n",
    "        \n",
    "        "
   ]
  },
  {
   "cell_type": "code",
   "execution_count": null,
   "id": "455d82c2",
   "metadata": {},
   "outputs": [],
   "source": []
  }
 ],
 "metadata": {
  "kernelspec": {
   "display_name": "Python 3 (ipykernel)",
   "language": "python",
   "name": "python3"
  },
  "language_info": {
   "codemirror_mode": {
    "name": "ipython",
    "version": 3
   },
   "file_extension": ".py",
   "mimetype": "text/x-python",
   "name": "python",
   "nbconvert_exporter": "python",
   "pygments_lexer": "ipython3",
   "version": "3.9.7"
  }
 },
 "nbformat": 4,
 "nbformat_minor": 5
}
