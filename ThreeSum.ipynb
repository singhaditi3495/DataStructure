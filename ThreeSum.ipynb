{
 "cells": [
  {
   "cell_type": "code",
   "execution_count": 5,
   "id": "65264ce0",
   "metadata": {},
   "outputs": [
    {
     "name": "stdout",
     "output_type": "stream",
     "text": [
      "emplist val will be ->  [[8, 7, 9], [2, 12, 10]]\n",
      "emplist ind will be ->  [[0, 1, 2], [3, 4, 5]]\n",
      "total no of unique list with sum val will be ->  2\n"
     ]
    }
   ],
   "source": [
    "#threesum\n",
    "nums=[8,7,9,2,12,10,45]\n",
    "sumval=24\n",
    "numslen=len(nums)\n",
    "emplistval=[]\n",
    "emplistind=[]\n",
    "#print(numslen)\n",
    "#basic approach\n",
    "for i in range(0,numslen-2):\n",
    "    for j in range (i+1,numslen-1):\n",
    "        for k in range(j+1,numslen):\n",
    "            if nums[i]+nums[j]+nums[k]==sumval:\n",
    "                emplistval.append([nums[i],nums[j],nums[k]])\n",
    "                emplistind.append([i,j,k])\n",
    "print(\"emplist val will be -> \",emplistval)                \n",
    "print(\"emplist ind will be -> \",emplistind)  \n",
    "print(\"total no of unique list with sum val will be -> \",len(emplistval))\n",
    "#Time complexity is o(logn3)"
   ]
  },
  {
   "cell_type": "code",
   "execution_count": 9,
   "id": "148ee0a3",
   "metadata": {},
   "outputs": [
    {
     "name": "stdout",
     "output_type": "stream",
     "text": [
      "emplist value will be ->  [[2, 10, 12], [7, 8, 9]]\n",
      "emplist index will be ->  [[0, 4, 5], [1, 2, 3]]\n",
      "total unique list will be ->  2\n"
     ]
    }
   ],
   "source": [
    "#time complexity is o(logn2)\n",
    "nums=[8,7,9,2,12,10,45]\n",
    "sumval=24\n",
    "nums.sort()\n",
    "numslen=len(nums)\n",
    "emplistval=[]\n",
    "emplistind=[]\n",
    "for i in range(0,numslen-2):\n",
    "    l=i+1\n",
    "    r=numslen-1\n",
    "    while l<r:\n",
    "        if nums[i]+nums[l]+nums[r]==sumval:\n",
    "            emplistval.append([nums[i],nums[l],nums[r]])\n",
    "            emplistind.append([i,l,r])\n",
    "            l=l+1\n",
    "            r=r-1\n",
    "        elif nums[i]+nums[l]+nums[r]<sumval:\n",
    "            l=l+1\n",
    "        else:\n",
    "            r=r-1\n",
    "print(\"emplist value will be -> \",emplistval)\n",
    "print(\"emplist index will be -> \",emplistind)\n",
    "print(\"total unique list will be -> \",len(emplistval))\n",
    "            "
   ]
  },
  {
   "cell_type": "code",
   "execution_count": null,
   "id": "396a102c",
   "metadata": {},
   "outputs": [],
   "source": []
  }
 ],
 "metadata": {
  "kernelspec": {
   "display_name": "Python 3 (ipykernel)",
   "language": "python",
   "name": "python3"
  },
  "language_info": {
   "codemirror_mode": {
    "name": "ipython",
    "version": 3
   },
   "file_extension": ".py",
   "mimetype": "text/x-python",
   "name": "python",
   "nbconvert_exporter": "python",
   "pygments_lexer": "ipython3",
   "version": "3.9.7"
  }
 },
 "nbformat": 4,
 "nbformat_minor": 5
}
