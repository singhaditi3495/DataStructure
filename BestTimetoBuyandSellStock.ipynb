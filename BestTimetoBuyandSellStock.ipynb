{
 "cells": [
  {
   "cell_type": "code",
   "execution_count": null,
   "id": "95c08e6e",
   "metadata": {},
   "outputs": [],
   "source": [
    "121. Best Time to Buy and Sell Stock\n",
    "https://leetcode.com/problems/best-time-to-buy-and-sell-stock/description/\n",
    "You are given an array prices where prices[i] is the price of a given stock on the ith day.\n",
    "\n",
    "You want to maximize your profit by choosing a single day to buy one stock and choosing a different day in the future \n",
    "to sell that stock.\n",
    "\n",
    "Return the maximum profit you can achieve from this transaction. If you cannot achieve any profit, return 0.\n",
    "\n",
    "Input: prices = [7,1,5,3,6,4]\n",
    "Output: 5\n",
    "Explanation: Buy on day 2 (price = 1) and sell on day 5 (price = 6), profit = 6-1 = 5.\n",
    "Note that buying on day 2 and selling on day 1 is not allowed because you must buy before you sell.\n",
    "\n",
    "Input: prices = [7,6,4,3,1]\n",
    "Output: 0\n",
    "Explanation: In this case, no transactions are done and the max profit = 0."
   ]
  },
  {
   "cell_type": "code",
   "execution_count": 4,
   "id": "d6dbba7a",
   "metadata": {},
   "outputs": [
    {
     "name": "stdout",
     "output_type": "stream",
     "text": [
      "0\n",
      "7\n"
     ]
    }
   ],
   "source": [
    "class Solution:\n",
    "    def maxProfit(self, prices):\n",
    "        profit=0\n",
    "        minval=prices[0]\n",
    "        for i in prices:\n",
    "            if i<minval:\n",
    "                minval=i\n",
    "                continue\n",
    "            profit=max(i-minval,profit)\n",
    "        return profit\n",
    "    \n",
    "a=Solution()\n",
    "res=a.maxProfit([7,6,4,3,1])\n",
    "\n",
    "b=Solution()\n",
    "res1=b.maxProfit([7,6,4,3,1,8])\n",
    "\n",
    "print(res)\n",
    "print(res1)\n",
    "            "
   ]
  },
  {
   "cell_type": "code",
   "execution_count": 5,
   "id": "e64c24a6",
   "metadata": {},
   "outputs": [
    {
     "name": "stdout",
     "output_type": "stream",
     "text": [
      "7\n"
     ]
    }
   ],
   "source": [
    "class Solution:\n",
    "    def maxProfit(self, prices):\n",
    "        minval=prices[0]\n",
    "        profit=0\n",
    "        for i in prices:\n",
    "            if i<minval:\n",
    "                minval=i\n",
    "                continue\n",
    "            profit=(i-minval,profit)\n",
    "        return profit\n",
    "    \n",
    "res1=b.maxProfit([7,6,4,3,1,8])\n",
    "print(res1)\n",
    "            \n",
    "                \n",
    "                \n",
    "            "
   ]
  },
  {
   "cell_type": "code",
   "execution_count": null,
   "id": "3027389a",
   "metadata": {},
   "outputs": [],
   "source": []
  }
 ],
 "metadata": {
  "kernelspec": {
   "display_name": "Python 3 (ipykernel)",
   "language": "python",
   "name": "python3"
  },
  "language_info": {
   "codemirror_mode": {
    "name": "ipython",
    "version": 3
   },
   "file_extension": ".py",
   "mimetype": "text/x-python",
   "name": "python",
   "nbconvert_exporter": "python",
   "pygments_lexer": "ipython3",
   "version": "3.9.7"
  }
 },
 "nbformat": 4,
 "nbformat_minor": 5
}
