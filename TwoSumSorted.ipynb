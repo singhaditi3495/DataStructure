{
 "cells": [
  {
   "cell_type": "code",
   "execution_count": null,
   "id": "e997aa36",
   "metadata": {},
   "outputs": [],
   "source": [
    "https://workat.tech/problem-solving/practice/two-sum-sorted\n",
    "Two Sum Sorted\n",
    "\n",
    "Given a sorted array, check if there exist two numbers whose sum is zero.\n",
    "\n",
    "Example\n",
    "A: [-3, 1, 3, 4]\n",
    "Answer: true\n",
    "A: [-2, 1, 3, 4]\n",
    "Answer: false"
   ]
  },
  {
   "cell_type": "code",
   "execution_count": 6,
   "id": "8a5b07aa",
   "metadata": {},
   "outputs": [
    {
     "name": "stdout",
     "output_type": "stream",
     "text": [
      "True\n",
      "False\n"
     ]
    }
   ],
   "source": [
    "def twosumsorted(nums):\n",
    "    \n",
    "    for i in nums:#-3\n",
    "        finalval=-1*i#3\n",
    "        if finalval in nums:\n",
    "            return True\n",
    "    \n",
    "    return False\n",
    "        \n",
    "A=[-3,1,3,4]\n",
    "B=[-2, 1, 3, 4]\n",
    "out=twosumsorted(A)\n",
    "out1=twosumsorted(B)\n",
    "print(out)\n",
    "print(out1)\n",
    "            "
   ]
  },
  {
   "cell_type": "code",
   "execution_count": null,
   "id": "ff40ee06",
   "metadata": {},
   "outputs": [],
   "source": []
  }
 ],
 "metadata": {
  "kernelspec": {
   "display_name": "Python 3 (ipykernel)",
   "language": "python",
   "name": "python3"
  },
  "language_info": {
   "codemirror_mode": {
    "name": "ipython",
    "version": 3
   },
   "file_extension": ".py",
   "mimetype": "text/x-python",
   "name": "python",
   "nbconvert_exporter": "python",
   "pygments_lexer": "ipython3",
   "version": "3.9.7"
  }
 },
 "nbformat": 4,
 "nbformat_minor": 5
}
